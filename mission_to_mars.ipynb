{
 "cells": [
  {
   "cell_type": "code",
   "execution_count": null,
   "metadata": {},
   "outputs": [],
   "source": [
    "# Dependencies\n",
    "from bs4 import BeautifulSoup as bs\n",
    "from splinter import Browser\n",
    "from splinter.exceptions import ElementDoesNotExist\n",
    "import pandas as pd\n",
    "import requests\n",
    "import os"
   ]
  },
  {
   "cell_type": "markdown",
   "metadata": {},
   "source": [
    "# Step 1 - Scraping"
   ]
  },
  {
   "cell_type": "code",
   "execution_count": 34,
   "metadata": {},
   "outputs": [],
   "source": [
    "# URLs of pages to be scraped\n",
    "nasa_url = 'https://mars.nasa.gov/news/'\n",
    "jpl_url = 'https://www.jpl.nasa.gov/spaceimages/?search=&category=Mars'\n",
    "mars_weather_url = 'https://twitter.com/marswxreport?lang=en'\n",
    "mars_facts_url = 'https://space-facts.com/mars/'\n",
    "usgs_url = 'https://astrogeology.usgs.gov/search/results?q=hemisphere+enhanced&k1=target&v1=Mars'\n",
    "\n",
    "# start browser for splinter\n",
    "executable_path = {'executable_path': 'chromedriver.exe'}\n",
    "browser = Browser('chrome', **executable_path, headless=False)"
   ]
  },
  {
   "cell_type": "markdown",
   "metadata": {},
   "source": [
    "### NASA Mars News\n",
    "Scrape the NASA Mars News Site and collect the latest News Title and Paragraph Text. Assign the text to variables that you can reference later."
   ]
  },
  {
   "cell_type": "code",
   "execution_count": 35,
   "metadata": {},
   "outputs": [],
   "source": [
    "# Retrieve page with the requests module\n",
    "# sponse_nasa = requests.get(nasa_url)"
   ]
  },
  {
   "cell_type": "code",
   "execution_count": 36,
   "metadata": {},
   "outputs": [],
   "source": [
    "# Create BeautifulSoup object; parse with 'html.parser'\n",
    "# soup_nasa = bs(response_nasa.text, 'html.parser')"
   ]
  },
  {
   "cell_type": "code",
   "execution_count": 37,
   "metadata": {
    "scrolled": true
   },
   "outputs": [],
   "source": [
    "# Examine the results, then determine element that contains sought info\n",
    "# print(soup_nasa.prettify()).head()"
   ]
  },
  {
   "cell_type": "code",
   "execution_count": 39,
   "metadata": {},
   "outputs": [],
   "source": [
    "# Visit the NASA Website\n",
    "browser.visit(nasa_url)\n",
    "browser.is_element_present_by_css(\"div.article_teaser_body\", wait_time=5)\n",
    "\n",
    "html = browser.html\n",
    "soup_nasa = bs(html, 'html.parser')"
   ]
  },
  {
   "cell_type": "code",
   "execution_count": 40,
   "metadata": {
    "scrolled": false
   },
   "outputs": [
    {
     "name": "stdout",
     "output_type": "stream",
     "text": [
      "[<div class=\"content_title\"><a href=\"/news/8427/curiosity-tastes-first-sample-in-clay-bearing-unit/\" target=\"_self\">Curiosity Tastes First Sample in 'Clay-Bearing Unit'</a></div>, <div class=\"content_title\"><a href=\"/news/8426/nasa-garners-7-webby-award-nominations/\" target=\"_self\">NASA Garners 7 Webby Award Nominations</a></div>, <div class=\"content_title\"><a href=\"/news/8425/curiosity-captured-two-solar-eclipses-on-mars/\" target=\"_self\">Curiosity Captured Two Solar Eclipses on Mars</a></div>, <div class=\"content_title\"><a href=\"/news/8424/nasas-mars-helicopter-completes-flight-tests/\" target=\"_self\">NASA's Mars Helicopter Completes Flight Tests</a></div>, <div class=\"content_title\"><a href=\"/news/8423/asteroids-hydrogen-make-great-recipe-for-life-on-mars/\" target=\"_self\">Asteroids, Hydrogen Make Great Recipe for Life on Mars</a></div>, <div class=\"content_title\"><a href=\"/news/8422/catch-nasas-jpl-at-the-clippers-scifest-this-weekend/\" target=\"_self\">Catch NASA's JPL at the Clippers SciFest This Weekend</a></div>, <div class=\"content_title\"><a href=\"/news/8421/nasas-mars-2020-rover-is-put-to-the-test/\" target=\"_self\">NASA's Mars 2020 Rover Is Put to the Test</a></div>, <div class=\"content_title\"><a href=\"/news/8420/opportunitys-parting-shot-was-a-beautiful-panorama/\" target=\"_self\">Opportunity's Parting Shot Was a Beautiful Panorama</a></div>, <div class=\"content_title\"><a href=\"/news/8416/curiosity-resumes-operations-after-switching-computers/\" target=\"_self\">Curiosity Resumes Operations After Switching Computers</a></div>, <div class=\"content_title\"><a href=\"/news/8419/mars-insight-landers-mole-pauses-digging/\" target=\"_self\">Mars InSight Lander's 'Mole' Pauses Digging</a></div>, <div class=\"content_title\"><a href=\"/news/8417/insight-lands-praise-and-a-proclamation-from-la-county/\" target=\"_self\">InSight Lands Praise and a Proclamation from LA County</a></div>, <div class=\"content_title\"><a href=\"/news/8415/insight-is-the-newest-mars-weather-service/\" target=\"_self\">InSight Is the Newest Mars Weather Service</a></div>, <div class=\"content_title\"><a href=\"/news/8414/six-things-to-know-about-nasas-opportunity-rover/\" target=\"_self\">Six Things to Know About NASA's Opportunity Rover</a></div>, <div class=\"content_title\"><a href=\"/news/8413/nasas-opportunity-rover-mission-on-mars-comes-to-end/\" target=\"_self\">NASA's Opportunity Rover Mission on Mars Comes to End</a></div>, <div class=\"content_title\"><a href=\"/news/8412/nasas-insight-prepares-to-take-mars-temperature/\" target=\"_self\">NASA's InSight Prepares to Take Mars' Temperature</a></div>, <div class=\"content_title\"><a href=\"/news/8411/nasa-to-share-results-of-effort-to-recover-mars-rover/\" target=\"_self\">NASA to Share Results of Effort to Recover Mars Rover</a></div>, <div class=\"content_title\"><a href=\"/news/8410/nasas-maven-spacecraft-shrinking-its-mars-orbit-to-prepare-for-mars-2020-rover/\" target=\"_self\">NASA's MAVEN Spacecraft Shrinking its Mars Orbit to Prepare for Mars 2020 Rover</a></div>, <div class=\"content_title\"><a href=\"/news/8409/360-video-curiosity-rover-departs-vera-rubin-ridge/\" target=\"_self\">360 Video: Curiosity Rover Departs Vera Rubin Ridge</a></div>, <div class=\"content_title\"><a href=\"/news/8408/beyond-mars-the-mini-marco-spacecraft-fall-silent/\" target=\"_self\">Beyond Mars, the Mini MarCO Spacecraft Fall Silent</a></div>, <div class=\"content_title\"><a href=\"/news/8407/insights-seismometer-now-has-a-cozy-shelter-on-mars/\" target=\"_self\">InSight's Seismometer Now Has a Cozy Shelter on Mars</a></div>, <div class=\"content_title\"><a href=\"/news/8406/mars-buggy-curiosity-measures-a-mountains-gravity/\" target=\"_self\">\"Mars Buggy\" Curiosity Measures a Mountain's Gravity</a></div>, <div class=\"content_title\"><a href=\"/news/8405/curiosity-says-farewell-to-mars-vera-rubin-ridge/\" target=\"_self\">Curiosity Says Farewell to Mars' Vera Rubin Ridge</a></div>, <div class=\"content_title\"><a href=\"/news/8404/rover-team-beaming-new-commands-to-opportunity-on-mars/\" target=\"_self\">Rover Team Beaming New Commands to Opportunity on Mars</a></div>, <div class=\"content_title\"><a href=\"/news/8403/nasas-opportunity-rover-logs-15-years-on-mars/\" target=\"_self\">NASA's Opportunity Rover Logs 15 Years on Mars</a></div>, <div class=\"content_title\"><a href=\"/news/8402/nasas-insight-places-first-instrument-on-mars/\" target=\"_self\">NASA's InSight Places First Instrument on Mars</a></div>, <div class=\"content_title\"><a href=\"/news/8401/insight-engineers-have-made-a-martian-rock-garden/\" target=\"_self\">InSight Engineers Have Made a Martian Rock Garden</a></div>, <div class=\"content_title\"><a href=\"/news/8400/mars-insight-lander-seen-in-first-images-from-space/\" target=\"_self\">Mars InSight Lander Seen in First Images from Space </a></div>, <div class=\"content_title\"><a href=\"/news/8398/nasas-insight-takes-its-first-selfie/\" target=\"_self\">NASA's InSight Takes Its First Selfie</a></div>, <div class=\"content_title\"><a href=\"/news/8397/nasa-insight-lander-hears-martian-winds/\" target=\"_self\">NASA InSight Lander 'Hears' Martian Winds </a></div>, <div class=\"content_title\"><a href=\"/news/8396/nasas-mars-insight-flexes-its-arm/\" target=\"_self\">NASA's Mars InSight Flexes Its Arm</a></div>, <div class=\"content_title\"><a href=\"/news/8395/mars-new-home-a-large-sandbox/\" target=\"_self\">Mars New Home 'a Large Sandbox'</a></div>, <div class=\"content_title\"><a href=\"/news/8394/nasa-hears-marco-cubesats-loud-and-clear-from-mars/\" target=\"_self\">NASA Hears MarCO CubeSats Loud and Clear from Mars </a></div>, <div class=\"content_title\"><a href=\"/news/8393/insight-is-catching-rays-on-mars/\" target=\"_self\">InSight Is Catching Rays on Mars</a></div>, <div class=\"content_title\"><a href=\"/news/8392/nasa-insight-lander-arrives-on-martian-surface/\" target=\"_self\">NASA InSight Lander Arrives on Martian Surface </a></div>, <div class=\"content_title\"><a href=\"/news/8391/landing-day-for-insight/\" target=\"_self\">Landing Day for InSight</a></div>, <div class=\"content_title\"><a href=\"/news/8390/nasa-insight-landing-on-mars-milestones/\" target=\"_self\">NASA InSight Landing on Mars: Milestones</a></div>, <div class=\"content_title\"><a href=\"/news/8389/nasa-insight-team-on-course-for-mars-touchdown/\" target=\"_self\">NASA InSight Team on Course for Mars Touchdown</a></div>, <div class=\"content_title\"><a href=\"/news/8388/what-two-planetary-siblings-can-teach-us-about-life/\" target=\"_self\">What Two Planetary Siblings Can Teach Us About Life</a></div>, <div class=\"content_title\"><a href=\"/news/8387/nasa-announces-landing-site-for-mars-2020-rover/\" target=\"_self\">NASA Announces Landing Site for Mars 2020 Rover</a></div>, <div class=\"content_title\"><a href=\"/news/8386/nasa-to-host-media-call-on-next-mars-landing-site/\" target=\"_self\">NASA to Host Media Call on Next Mars Landing Site</a></div>, <div class=\"content_title\">\n",
      "<a href=\"/news/8348/opportunity-hunkers-down-during-dust-storm/\">\n",
      "Opportunity Hunkers Down During Dust Storm\n",
      "</a>\n",
      "</div>, <div class=\"content_title\">\n",
      "<a href=\"/news/8347/nasa-finds-ancient-organic-material-mysterious-methane-on-mars/\">\n",
      "NASA Finds Ancient Organic Material, Mysterious Methane on Mars\n",
      "</a>\n",
      "</div>, <div class=\"content_title\">\n",
      "<a href=\"/news/8426/nasa-garners-7-webby-award-nominations/\">\n",
      "NASA Garners 7 Webby Award Nominations\n",
      "</a>\n",
      "</div>, <div class=\"content_title\">\n",
      "<a href=\"/news/8413/nasas-opportunity-rover-mission-on-mars-comes-to-end/\">\n",
      "NASA's Opportunity Rover Mission on Mars Comes to End\n",
      "</a>\n",
      "</div>, <div class=\"content_title\">\n",
      "<a href=\"/news/8402/nasas-insight-places-first-instrument-on-mars/\">\n",
      "NASA's InSight Places First Instrument on Mars\n",
      "</a>\n",
      "</div>, <div class=\"content_title\">\n",
      "<a href=\"/news/8387/nasa-announces-landing-site-for-mars-2020-rover/\">\n",
      "NASA Announces Landing Site for Mars 2020 Rover\n",
      "</a>\n",
      "</div>, <div class=\"content_title\">\n",
      "<a href=\"/news/8348/opportunity-hunkers-down-during-dust-storm/\">\n",
      "Opportunity Hunkers Down During Dust Storm\n",
      "</a>\n",
      "</div>, <div class=\"content_title\">\n",
      "<a href=\"/news/8347/nasa-finds-ancient-organic-material-mysterious-methane-on-mars/\">\n",
      "NASA Finds Ancient Organic Material, Mysterious Methane on Mars\n",
      "</a>\n",
      "</div>, <div class=\"content_title\">\n",
      "<a href=\"/news/8426/nasa-garners-7-webby-award-nominations/\">\n",
      "NASA Garners 7 Webby Award Nominations\n",
      "</a>\n",
      "</div>, <div class=\"content_title\">\n",
      "<a href=\"/news/8413/nasas-opportunity-rover-mission-on-mars-comes-to-end/\">\n",
      "NASA's Opportunity Rover Mission on Mars Comes to End\n",
      "</a>\n",
      "</div>]\n"
     ]
    }
   ],
   "source": [
    "# a = soup_nasa.find(\"div\", class_=\"list_text\")\n",
    "news_title = soup_nasa.find_all(\"div\", class_=\"content_title\")\n",
    "print(news_title)\n",
    "# soup_nasa.find('ul', class_='item_list')\n"
   ]
  },
  {
   "cell_type": "code",
   "execution_count": 41,
   "metadata": {},
   "outputs": [
    {
     "data": {
      "text/plain": [
       "<div class=\"list_text\"><div class=\"list_date\">April 11, 2019</div><div class=\"content_title\"><a href=\"/news/8427/curiosity-tastes-first-sample-in-clay-bearing-unit/\" target=\"_self\">Curiosity Tastes First Sample in 'Clay-Bearing Unit'</a></div><div class=\"article_teaser_body\">This new region on Mars might reveal more about the role of water on Mount Sharp.</div></div>"
      ]
     },
     "execution_count": 41,
     "metadata": {},
     "output_type": "execute_result"
    }
   ],
   "source": [
    "soup_nasa.find('div', class_='list_text')"
   ]
  },
  {
   "cell_type": "code",
   "execution_count": 42,
   "metadata": {},
   "outputs": [
    {
     "data": {
      "text/plain": [
       "[<div class=\"article_teaser_body\">This new region on Mars might reveal more about the role of water on Mount Sharp.</div>,\n",
       " <div class=\"article_teaser_body\">Nominees include four JPL projects: the solar system and climate websites, InSight social media, and a 360-degree Earth video. Public voting closes April 18, 2019.</div>,\n",
       " <div class=\"article_teaser_body\">Observing the Martian moons Phobos and Deimos crossing in front of the Sun helps scientists better understand their orbits.</div>,\n",
       " <div class=\"article_teaser_body\">The first helicopter to fly on Mars had its first flight on Earth.</div>,\n",
       " <div class=\"article_teaser_body\">Laser blasts in lab tests suggest asteroid bombardment could have provided key ingredients for life on ancient Mars.</div>,\n",
       " <div class=\"article_teaser_body\">Students and families can meet a Mars rover, take a virtual tour through our solar system and explore alien worlds with NASA's Jet Propulsion Laboratory at the Clippers SciFest SoCal.</div>,\n",
       " <div class=\"article_teaser_body\">In January, Mars 2020 engineers and technicians took over JPL's cleanroom to put the mission's cruise, entry capsule, descent stage and rover through their paces.</div>,\n",
       " <div class=\"article_teaser_body\">NASA declared the record-setting rover's mission complete on Feb. 13, 2019, but the final image from the rover has just been processed.</div>,\n",
       " <div class=\"article_teaser_body\">Curiosity experienced a computer reset on its Side-A computer on Wednesday, March 6, 2019 (Sol 2,339), that triggered the rover's safe mode.</div>,\n",
       " <div class=\"article_teaser_body\">After the mission's heat probe began hammering last week, it appears to have hit a rock. The team is analyzing data before they hammer again.</div>,\n",
       " <div class=\"article_teaser_body\">Several members of the Mars InSight team accepted a proclamation on behalf of the mission from L.A. County Board of Supervisors on Tuesday, Feb. 19.</div>,\n",
       " <div class=\"article_teaser_body\">By collecting data around the clock, NASA's lander will provide unique science about the Martian surface.</div>,\n",
       " <div class=\"article_teaser_body\">Opportunity's mission is complete. Here are highlights from its time on Mars.</div>,\n",
       " <div class=\"article_teaser_body\">NASA's Opportunity Mars rover mission is complete after 15 years on Mars. Opportunity's record-breaking exploration laid the groundwork for future missions to the Red Planet.</div>,\n",
       " <div class=\"article_teaser_body\">The lander's second instrument is on the ground. But its ‘mole’ — a burrowing probe — has a long way to go.</div>,\n",
       " <div class=\"article_teaser_body\">NASA will discuss the status of its Mars Exploration Rover Opportunity in a media briefing at 11 a.m. PST (2 p.m. EST) Wednesday, Feb. 13, from the Jet Propulsion Laboratory.</div>,\n",
       " <div class=\"article_teaser_body\">The MAVEN spacecraft today is starting a campaign to tighten its orbit around Mars to prepare to serve as a data-relay satellite for NASA’s Mars 2020 rover, which launches next year.</div>,\n",
       " <div class=\"article_teaser_body\">This panorama from the Mast Camera (Mastcam) on NASA's Curiosity Mars rover was taken on Dec. 19 (Sol 2265). The rover's last drill location on Vera Rubin Ridge is visible, as well as the clay region it will spend the next year exploring.</div>,\n",
       " <div class=\"article_teaser_body\">The first CubeSat mission to deep space may have reached their limit, but they could inspire future NASA missions.</div>,\n",
       " <div class=\"article_teaser_body\">A domed shield has been set over one of InSight's primary science instruments, protecting it from Mars' wind and temperature changes.</div>,\n",
       " <div class=\"article_teaser_body\">Smartphone-like sensors on the NASA rover were used to calculate the density of Mount Sharp, offering new clues to its formation.</div>,\n",
       " <div class=\"article_teaser_body\">The Mars rover is moving on and has taken its last selfie on the ridge it's explored for more than a year.</div>,\n",
       " <div class=\"article_teaser_body\">Engineers at JPL have begun transmitting a new set of commands to Opportunity in an attempt to compel the Mars rover to contact Earth.</div>,\n",
       " <div class=\"article_teaser_body\">The rover landed in a region of the Red Planet called Meridiani Planum 16 years ago today, on Jan. 24, 2004.</div>,\n",
       " <div class=\"article_teaser_body\">In deploying its first instrument onto the surface of Mars, the lander completes a major mission milestone.</div>,\n",
       " <div class=\"article_teaser_body\">Reconstructing Mars here on Earth lets them practice setting down the lander's science instruments.</div>,\n",
       " <div class=\"article_teaser_body\">Look closely, and you can make out the lander's solar panels.</div>,\n",
       " <div class=\"article_teaser_body\">Two new image mosaics detail the lander's deck and \"workspace\" — the surface where it will eventually set down its science instruments.</div>,\n",
       " <div class=\"article_teaser_body\">Vibrations picked up by two spacecraft instruments have provided the first sounds of Martian wind.</div>,\n",
       " <div class=\"article_teaser_body\">Now unstowed, the spacecraft's robotic arm will point a camera located on its elbow and take images of the surroundings.</div>,\n",
       " <div class=\"article_teaser_body\">With InSight safely on the surface of Mars, the mission team is busy learning more about the spacecraft's landing site.</div>,\n",
       " <div class=\"article_teaser_body\">A pair of tiny, experimental spacecraft fulfilled their mission yesterday, relaying back near-real-time data during InSight's landing.</div>,\n",
       " <div class=\"article_teaser_body\">The lander has sent data indicating its solar panels are open and receiving sunlight to power its surface operations.</div>,\n",
       " <div class=\"article_teaser_body\">The touchdown marks the eighth time NASA has successfully landed a spacecraft on Mars.</div>,\n",
       " <div class=\"article_teaser_body\">NASA's InSight spacecraft is on target for Mars landing at around noon PST today.</div>,\n",
       " <div class=\"article_teaser_body\">On Nov. 26, NASA's InSight spacecraft will blaze through the Martian atmosphere and set a lander gently on the surface in less time than it takes to cook a hard-boiled egg.</div>,\n",
       " <div class=\"article_teaser_body\">NASA's Mars InSight spacecraft is on track for a soft touchdown on the surface of the Red Planet on Nov. 26.</div>,\n",
       " <div class=\"article_teaser_body\">In studying Mars, NASA's InSight will reveal what makes one planet more or less suitable for life than another.</div>,\n",
       " <div class=\"article_teaser_body\">After a five-year search, NASA has chosen Jezero Crater as the landing site for its upcoming Mars 2020 rover mission.</div>,\n",
       " <div class=\"article_teaser_body\">NASA will host a media teleconference at 9 a.m. PST (noon EST) Monday, Nov. 19, to provide details about the Mars 2020 rover’s landing site on the Red Planet.</div>]"
      ]
     },
     "execution_count": 42,
     "metadata": {},
     "output_type": "execute_result"
    }
   ],
   "source": [
    "news_p = soup_nasa.find_all('div', class_='article_teaser_body')\n",
    "news_p\n"
   ]
  },
  {
   "cell_type": "markdown",
   "metadata": {},
   "source": [
    "### Mars Space Images - Featured Image"
   ]
  },
  {
   "cell_type": "code",
   "execution_count": null,
   "metadata": {},
   "outputs": [],
   "source": [
    "# Visit the url for JPL Featured Space Image\n",
    "browser.visit(jpl_url)"
   ]
  },
  {
   "cell_type": "code",
   "execution_count": null,
   "metadata": {},
   "outputs": [],
   "source": [
    "# Use splinter to navigate the site and find the image url for the current Featured Mars Image \n",
    "# and assign the url string to a variable called featured_image_url."
   ]
  },
  {
   "cell_type": "code",
   "execution_count": null,
   "metadata": {},
   "outputs": [],
   "source": []
  },
  {
   "cell_type": "markdown",
   "metadata": {},
   "source": [
    "### Mars Weather\n",
    "Visit the Mars Weather twitter account and scrape the latest Mars weather tweet from the page. Save the tweet text for the weather report as a variable called mars_weather."
   ]
  },
  {
   "cell_type": "code",
   "execution_count": null,
   "metadata": {},
   "outputs": [],
   "source": []
  },
  {
   "cell_type": "code",
   "execution_count": null,
   "metadata": {},
   "outputs": [],
   "source": []
  },
  {
   "cell_type": "markdown",
   "metadata": {},
   "source": [
    "### Mars Facts"
   ]
  },
  {
   "cell_type": "code",
   "execution_count": null,
   "metadata": {},
   "outputs": [],
   "source": [
    "# Visit the Mars Facts webpage and use Pandas to scrape the table containing facts about the planet \n",
    "# including Diameter, Mass, etc."
   ]
  },
  {
   "cell_type": "code",
   "execution_count": null,
   "metadata": {},
   "outputs": [],
   "source": [
    "# Use Pandas to convert the data to a HTML table string."
   ]
  },
  {
   "cell_type": "code",
   "execution_count": null,
   "metadata": {},
   "outputs": [],
   "source": []
  },
  {
   "cell_type": "markdown",
   "metadata": {},
   "source": [
    "### Mars Hemispheres"
   ]
  },
  {
   "cell_type": "markdown",
   "metadata": {},
   "source": [
    "- Visit the USGS Astrogeology site to obtain high resolution images for each of Mar's hemispheres.\n",
    "- You will need to click each of the links to the hemispheres in order to find the image url to the full resolution image.\n",
    "- Save both the image url string for the full resolution hemisphere image, and the Hemisphere title containing the hemisphere name. Use a Python dictionary to store the data using the keys img_url and title.\n",
    "- Append the dictionary with the image url string and the hemisphere title to a list. This list will contain one dictionary for each hemisphere."
   ]
  },
  {
   "cell_type": "code",
   "execution_count": null,
   "metadata": {},
   "outputs": [],
   "source": []
  },
  {
   "cell_type": "markdown",
   "metadata": {},
   "source": [
    "# Step 2 - MongoDB and Flask Application"
   ]
  },
  {
   "cell_type": "code",
   "execution_count": null,
   "metadata": {},
   "outputs": [],
   "source": []
  }
 ],
 "metadata": {
  "kernelspec": {
   "display_name": "Python 3",
   "language": "python",
   "name": "python3"
  },
  "language_info": {
   "codemirror_mode": {
    "name": "ipython",
    "version": 3
   },
   "file_extension": ".py",
   "mimetype": "text/x-python",
   "name": "python",
   "nbconvert_exporter": "python",
   "pygments_lexer": "ipython3",
   "version": "3.6.7"
  }
 },
 "nbformat": 4,
 "nbformat_minor": 2
}
